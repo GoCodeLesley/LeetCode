{
 "cells": [
  {
   "cell_type": "code",
   "execution_count": 1,
   "metadata": {},
   "outputs": [],
   "source": [
    "import pandas as pd\n",
    "import numpy as np\n",
    "data=pd.read_csv(\"./Fraud_Detection/Fraud_Data_w_country.csv\")"
   ]
  },
  {
   "cell_type": "code",
   "execution_count": 3,
   "metadata": {},
   "outputs": [
    {
     "data": {
      "text/plain": [
       "0          75111.366667\n",
       "1            299.066667\n",
       "2              0.016667\n",
       "3           8201.416667\n",
       "4          72691.016667\n",
       "              ...      \n",
       "151107     87687.216667\n",
       "151108     15521.166667\n",
       "151109    111360.266667\n",
       "151110     85768.650000\n",
       "151111     58741.550000\n",
       "Length: 151112, dtype: float64"
      ]
     },
     "execution_count": 3,
     "metadata": {},
     "output_type": "execute_result"
    }
   ],
   "source": [
    "#process time variable\n",
    "data['purchase_time']=pd.to_datetime(data['purchase_time'],format='%Y-%m-%d %H:%M:%S')\n",
    "data['signup_time']=pd.to_datetime(data['signup_time'])\n",
    "#utc convert\n",
    "#data['timestamp'] = pd.to_datetime(data['time'], unit='s')\n",
    "\n",
    "#time difference between purchase and signup\n",
    "data[\"purchase_signup_diff\"]=(data['purchase_time']-data['signup_time']).dt.total_seconds()\n",
    "#date time to year\n",
    "data[\"purchase_time\"].dt.year\n",
    "#week of the yr\n",
    "data['signup_time'].dt.week\n",
    "#day of the week\n",
    "data[\"signup_time\"].dt.weekday\n",
    "#date\n",
    "data['signup_time'].dt.date\n",
    "#time differences to seconds\n",
    "(data['purchase_time']-data['signup_time']).dt.total_seconds()\n",
    "#month of the year\n",
    "data[\"signup_time\"].dt.month\n",
    "#timedelta into minutes\n",
    "(data['purchase_time']-data['signup_time'])/np.timedelta64(1, 'm')"
   ]
  },
  {
   "cell_type": "code",
   "execution_count": 4,
   "metadata": {},
   "outputs": [
    {
     "data": {
      "text/html": [
       "<div>\n",
       "<style scoped>\n",
       "    .dataframe tbody tr th:only-of-type {\n",
       "        vertical-align: middle;\n",
       "    }\n",
       "\n",
       "    .dataframe tbody tr th {\n",
       "        vertical-align: top;\n",
       "    }\n",
       "\n",
       "    .dataframe thead th {\n",
       "        text-align: right;\n",
       "    }\n",
       "</style>\n",
       "<table border=\"1\" class=\"dataframe\">\n",
       "  <thead>\n",
       "    <tr style=\"text-align: right;\">\n",
       "      <th></th>\n",
       "      <th>Unnamed: 0</th>\n",
       "      <th>user_id</th>\n",
       "      <th>signup_time</th>\n",
       "      <th>purchase_time</th>\n",
       "      <th>purchase_value</th>\n",
       "      <th>device_id</th>\n",
       "      <th>source</th>\n",
       "      <th>browser</th>\n",
       "      <th>sex</th>\n",
       "      <th>age</th>\n",
       "      <th>ip_address</th>\n",
       "      <th>class</th>\n",
       "      <th>country</th>\n",
       "      <th>purchase_signup_diff</th>\n",
       "      <th>purchase_days</th>\n",
       "    </tr>\n",
       "  </thead>\n",
       "  <tbody>\n",
       "    <tr>\n",
       "      <th>0</th>\n",
       "      <td>0</td>\n",
       "      <td>22058</td>\n",
       "      <td>2015-02-24 22:55:49</td>\n",
       "      <td>2015-04-18 02:47:11</td>\n",
       "      <td>34</td>\n",
       "      <td>QVPSPJUOCKZAR</td>\n",
       "      <td>SEO</td>\n",
       "      <td>Chrome</td>\n",
       "      <td>M</td>\n",
       "      <td>39</td>\n",
       "      <td>7.327584e+08</td>\n",
       "      <td>0</td>\n",
       "      <td>Japan</td>\n",
       "      <td>4506682.0</td>\n",
       "      <td>52.0</td>\n",
       "    </tr>\n",
       "    <tr>\n",
       "      <th>1</th>\n",
       "      <td>1</td>\n",
       "      <td>333320</td>\n",
       "      <td>2015-06-07 20:39:50</td>\n",
       "      <td>2015-06-08 01:38:54</td>\n",
       "      <td>16</td>\n",
       "      <td>EOGFQPIZPYXFZ</td>\n",
       "      <td>Ads</td>\n",
       "      <td>Chrome</td>\n",
       "      <td>F</td>\n",
       "      <td>53</td>\n",
       "      <td>3.503114e+08</td>\n",
       "      <td>0</td>\n",
       "      <td>United States</td>\n",
       "      <td>17944.0</td>\n",
       "      <td>0.0</td>\n",
       "    </tr>\n",
       "    <tr>\n",
       "      <th>2</th>\n",
       "      <td>2</td>\n",
       "      <td>1359</td>\n",
       "      <td>2015-01-01 18:52:44</td>\n",
       "      <td>2015-01-01 18:52:45</td>\n",
       "      <td>15</td>\n",
       "      <td>YSSKYOSJHPPLJ</td>\n",
       "      <td>SEO</td>\n",
       "      <td>Opera</td>\n",
       "      <td>M</td>\n",
       "      <td>53</td>\n",
       "      <td>2.621474e+09</td>\n",
       "      <td>1</td>\n",
       "      <td>United States</td>\n",
       "      <td>1.0</td>\n",
       "      <td>0.0</td>\n",
       "    </tr>\n",
       "    <tr>\n",
       "      <th>3</th>\n",
       "      <td>3</td>\n",
       "      <td>150084</td>\n",
       "      <td>2015-04-28 21:13:25</td>\n",
       "      <td>2015-05-04 13:54:50</td>\n",
       "      <td>44</td>\n",
       "      <td>ATGTXKYKUDUQN</td>\n",
       "      <td>SEO</td>\n",
       "      <td>Safari</td>\n",
       "      <td>M</td>\n",
       "      <td>41</td>\n",
       "      <td>3.840542e+09</td>\n",
       "      <td>0</td>\n",
       "      <td>NaN</td>\n",
       "      <td>492085.0</td>\n",
       "      <td>5.0</td>\n",
       "    </tr>\n",
       "    <tr>\n",
       "      <th>4</th>\n",
       "      <td>4</td>\n",
       "      <td>221365</td>\n",
       "      <td>2015-07-21 07:09:52</td>\n",
       "      <td>2015-09-09 18:40:53</td>\n",
       "      <td>39</td>\n",
       "      <td>NAUITBZFJKHWW</td>\n",
       "      <td>Ads</td>\n",
       "      <td>Safari</td>\n",
       "      <td>M</td>\n",
       "      <td>45</td>\n",
       "      <td>4.155831e+08</td>\n",
       "      <td>0</td>\n",
       "      <td>United States</td>\n",
       "      <td>4361461.0</td>\n",
       "      <td>50.0</td>\n",
       "    </tr>\n",
       "  </tbody>\n",
       "</table>\n",
       "</div>"
      ],
      "text/plain": [
       "   Unnamed: 0  user_id         signup_time       purchase_time  \\\n",
       "0           0    22058 2015-02-24 22:55:49 2015-04-18 02:47:11   \n",
       "1           1   333320 2015-06-07 20:39:50 2015-06-08 01:38:54   \n",
       "2           2     1359 2015-01-01 18:52:44 2015-01-01 18:52:45   \n",
       "3           3   150084 2015-04-28 21:13:25 2015-05-04 13:54:50   \n",
       "4           4   221365 2015-07-21 07:09:52 2015-09-09 18:40:53   \n",
       "\n",
       "   purchase_value      device_id source browser sex  age    ip_address  class  \\\n",
       "0              34  QVPSPJUOCKZAR    SEO  Chrome   M   39  7.327584e+08      0   \n",
       "1              16  EOGFQPIZPYXFZ    Ads  Chrome   F   53  3.503114e+08      0   \n",
       "2              15  YSSKYOSJHPPLJ    SEO   Opera   M   53  2.621474e+09      1   \n",
       "3              44  ATGTXKYKUDUQN    SEO  Safari   M   41  3.840542e+09      0   \n",
       "4              39  NAUITBZFJKHWW    Ads  Safari   M   45  4.155831e+08      0   \n",
       "\n",
       "         country  purchase_signup_diff  purchase_days  \n",
       "0          Japan             4506682.0           52.0  \n",
       "1  United States               17944.0            0.0  \n",
       "2  United States                   1.0            0.0  \n",
       "3            NaN              492085.0            5.0  \n",
       "4  United States             4361461.0           50.0  "
      ]
     },
     "execution_count": 4,
     "metadata": {},
     "output_type": "execute_result"
    }
   ],
   "source": [
    "#time delta\n",
    "from datetime import timedelta\n",
    "today = pd.to_datetime('today')\n",
    "last_week = today + timedelta(days=-7)\n",
    "last_week\n",
    "last_min=today+timedelta(seconds=-60)\n",
    "last_min\n",
    "data[\"purchase_days\"]=(data.purchase_time-data.signup_time).astype('timedelta64[D]')\n",
    "data.head()"
   ]
  },
  {
   "cell_type": "code",
   "execution_count": 8,
   "metadata": {},
   "outputs": [
    {
     "data": {
      "text/plain": [
       "0    2015-02\n",
       "1    2015-06\n",
       "2    2015-01\n",
       "3    2015-04\n",
       "4    2015-07\n",
       "Name: signup_time, dtype: object"
      ]
     },
     "execution_count": 8,
     "metadata": {},
     "output_type": "execute_result"
    }
   ],
   "source": [
    "# year week\n",
    "data.signup_time.dt.strftime('%Y-%U').head()\n",
    "data.signup_time.apply(lambda x: pd.Timestamp(x).strftime('%Y-%m')).head()"
   ]
  },
  {
   "cell_type": "code",
   "execution_count": 13,
   "metadata": {},
   "outputs": [
    {
     "data": {
      "text/plain": [
       "datetime.date(2017, 7, 28)"
      ]
     },
     "execution_count": 13,
     "metadata": {},
     "output_type": "execute_result"
    }
   ],
   "source": [
    "#time mask\n",
    "time_msk=data.signup_time>pd.Timestamp(\"2017-07-28\")\n",
    "sum(time_msk)\n",
    "date_string=\"2017-07-28\"\n",
    "time_stamp = pd.to_datetime(date_string)\n",
    "time_stamp.date()"
   ]
  },
  {
   "cell_type": "code",
   "execution_count": 15,
   "metadata": {},
   "outputs": [
    {
     "data": {
      "text/plain": [
       "0    2015-02-24\n",
       "1    2015-06-07\n",
       "2    2015-01-01\n",
       "3    2015-04-28\n",
       "4    2015-07-21\n",
       "Name: signup_date, dtype: object"
      ]
     },
     "execution_count": 15,
     "metadata": {},
     "output_type": "execute_result"
    }
   ],
   "source": [
    "data['signup_date']=data['signup_time'].apply(lambda x: pd.Timestamp(x).strftime('%Y-%m-%d'))\n",
    "data['signup_date'].head()"
   ]
  },
  {
   "cell_type": "code",
   "execution_count": 16,
   "metadata": {
    "scrolled": true
   },
   "outputs": [
    {
     "data": {
      "text/plain": [
       "0    February-24-2015 10:55 PM\n",
       "1        June-07-2015 08:39 PM\n",
       "2     January-01-2015 06:52 PM\n",
       "3       April-28-2015 09:13 PM\n",
       "4        July-21-2015 07:09 AM\n",
       "Name: signup_month, dtype: object"
      ]
     },
     "execution_count": 16,
     "metadata": {},
     "output_type": "execute_result"
    }
   ],
   "source": [
    "data['signup_month']=data['signup_time'].apply(lambda x: pd.Timestamp(x).strftime('%B-%d-%Y %I:%M %p'))\n",
    "data['signup_month'].head()"
   ]
  },
  {
   "cell_type": "code",
   "execution_count": null,
   "metadata": {},
   "outputs": [],
   "source": [
    "#reference\n",
    "#reference link https://towardsdatascience.com/mastering-dates-and-timestamps-in-pandas-and-python-in-general-5b8c6edcc50c\n",
    "\n",
    "#https://pandas.pydata.org/pandas-docs/stable/reference/api/pandas.Timestamp.html\n",
    "#https://towardsdatascience.com/basic-time-series-manipulation-with-pandas-4432afee64ea\n",
    "#https://medium.com/jbennetcodes/dealing-with-datetimes-like-a-pro-in-pandas-b80d3d808a7f"
   ]
  }
 ],
 "metadata": {
  "kernelspec": {
   "display_name": "Python 3",
   "language": "python",
   "name": "python3"
  },
  "language_info": {
   "codemirror_mode": {
    "name": "ipython",
    "version": 3
   },
   "file_extension": ".py",
   "mimetype": "text/x-python",
   "name": "python",
   "nbconvert_exporter": "python",
   "pygments_lexer": "ipython3",
   "version": "3.7.6"
  }
 },
 "nbformat": 4,
 "nbformat_minor": 2
}
